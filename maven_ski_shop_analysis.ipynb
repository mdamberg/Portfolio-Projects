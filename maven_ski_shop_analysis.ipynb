{
 "cells": [
  {
   "cell_type": "markdown",
   "id": "2d7d830c",
   "metadata": {},
   "source": [
    "# Final Project: Black Friday Excel Data"
   ]
  },
  {
   "cell_type": "code",
   "execution_count": 1,
   "id": "59343dde",
   "metadata": {},
   "outputs": [],
   "source": [
    "import openpyxl as xl\n",
    "from tax_calculator import tax_calculator\n",
    "# pprint prints dictionaries a bit more nicely than print\n",
    "from pprint import pprint"
   ]
  },
  {
   "cell_type": "markdown",
   "id": "b323bd31",
   "metadata": {},
   "source": [
    "## Part 1\n",
    "\n",
    "First, read in maven_ski_shop_data.xlsx\n",
    "\n",
    "Then, assign the orders worksheet to an intuitive variable name. "
   ]
  },
  {
   "cell_type": "code",
   "execution_count": 2,
   "id": "d4407995",
   "metadata": {},
   "outputs": [],
   "source": [
    "# Reading in Excel Workbook\n",
    "\n",
    "wb = xl.load_workbook(filename='maven_ski_shop_data.xlsx')\n",
    "\n",
    "orders = wb['Orders_Info']"
   ]
  },
  {
   "cell_type": "markdown",
   "id": "0fdff76c",
   "metadata": {},
   "source": [
    "### Column Printer Function\n",
    "\n",
    "Since we'll be working with Excel frequently, let's create a helper function to print all the rows of a specified column.\n",
    "\n",
    "This will help us view imported data without looking at Excel, and review the data we've written into columns without needing to save a file to review the changes.\n",
    "\n",
    "Your function should take two arguments:\n",
    "\n",
    "* Worksheet where data is located\n",
    "* Column Letter of data to print\n",
    "\n",
    "Your function should:\n",
    "\n",
    "* Print Cell Coordinate (e.g. A1, D4).\n",
    "* Print the contents of the cell.\n",
    "\n",
    "Then call your function twice:\n",
    "\n",
    "* Once to print Order ID (column A in 'Orders_Info')\n",
    "* Once to print subtotal (column D in 'Orders_Info')"
   ]
  },
  {
   "cell_type": "markdown",
   "id": "ba5d5ca8",
   "metadata": {},
   "source": [
    "def column_printer(worksheet, column_letter):\n",
    "    for i, cell in enumerate(worksheet[column_letter], start = 1):\n",
    "        print(f'{column_letter}{i}:, {cell.value}')"
   ]
  },
  {
   "cell_type": "code",
   "execution_count": 3,
   "id": "ad9b55c6",
   "metadata": {},
   "outputs": [],
   "source": [
    "# This also works\n",
    "\n",
    "def column_printer2(sheet, column):\n",
    "    for i in range(1, sheet.max_row + 1):\n",
    "        print(f'{column}{i}', sheet[f'{column}{i}'].value)\n"
   ]
  },
  {
   "cell_type": "code",
   "execution_count": 4,
   "id": "8146bf34",
   "metadata": {},
   "outputs": [
    {
     "name": "stdout",
     "output_type": "stream",
     "text": [
      "A1 Order_ID\n",
      "A2 100000\n",
      "A3 100001\n",
      "A4 100002\n",
      "A5 100003\n",
      "A6 100004\n",
      "A7 100005\n",
      "A8 100006\n",
      "A9 100007\n",
      "A10 100008\n",
      "A11 100009\n",
      "A12 100010\n",
      "A13 100011\n",
      "A14 100012\n",
      "A15 100013\n",
      "A16 100014\n",
      "A17 100020\n",
      "A18 100021\n",
      "A19 100022\n",
      "A20 100023\n",
      "A21 100024\n",
      "A22 100025\n",
      "A23 100026\n",
      "A24 100027\n",
      "A25 100031\n",
      "A26 100032\n",
      "A27 100033\n",
      "A28 100034\n"
     ]
    }
   ],
   "source": [
    "column_printer2(orders, 'A')"
   ]
  },
  {
   "cell_type": "code",
   "execution_count": 5,
   "id": "b653f668",
   "metadata": {},
   "outputs": [
    {
     "name": "stdout",
     "output_type": "stream",
     "text": [
      "D1 Subtotal\n",
      "D2 15.98\n",
      "D3 899.97\n",
      "D4 799.97\n",
      "D5 117.96\n",
      "D6 5.99\n",
      "D7 599.99\n",
      "D8 24.99\n",
      "D9 1799.94\n",
      "D10 99.99\n",
      "D11 254.95\n",
      "D12 29.98\n",
      "D13 99.99\n",
      "D14 25.98\n",
      "D15 649.98\n",
      "D16 89.99\n",
      "D17 119.99\n",
      "D18 599.99\n",
      "D19 649.98\n",
      "D20 24.99\n",
      "D21 99.99\n",
      "D22 99.99\n",
      "D23 5.99\n",
      "D24 24.99\n",
      "D25 999.96\n",
      "D26 99.99\n",
      "D27 399.97\n",
      "D28 89.99\n"
     ]
    }
   ],
   "source": [
    "column_printer2(orders, 'D')"
   ]
  },
  {
   "cell_type": "markdown",
   "id": "b4b6d8ea",
   "metadata": {},
   "source": [
    "### Order Data Dictionary\n",
    "\n",
    "Create a dictionary with all of the information contained in the 'Orders_Info' Worksheet.\n",
    "\n",
    "* The dictionary keys should be Order IDs (Column A)\n",
    "* The values should a list storing the data in the rest of the columns.\n",
    "* The columns in the list stored as values should be B, C, D, G, and H (after converting to list). \n",
    "* For example: The first order, column H should be the nested list: [10001, 10002]\n",
    "\n",
    "\n",
    "A few notes:\n",
    "\n",
    "* Convert the Items_Ordered field into a list (we covered a helpful string method for this)\n",
    "* This can be done with a dictionary comprehension\n",
    "* DO NOT INCLUDE EXCEL COLUMN HEADERS"
   ]
  },
  {
   "cell_type": "code",
   "execution_count": 6,
   "id": "09af8aa3",
   "metadata": {},
   "outputs": [],
   "source": [
    "order_dict = {\n",
    "    orders[f'A{order}'].value:[\n",
    "        orders[f'B{order}'].value,\n",
    "        orders[f'C{order}'].value,\n",
    "        orders[f'D{order}'].value,\n",
    "        orders[f'G{order}'].value,\n",
    "        str(orders[f'H{order}'].value).split(',')\n",
    "    ]\n",
    "    for order in range(2, orders.max_row + 1)\n",
    "}"
   ]
  },
  {
   "cell_type": "markdown",
   "id": "0fedf277",
   "metadata": {},
   "source": [
    "- line by line explaination for above code\n",
    "1. reference the sheet, the column (A) with value and end w/ colon defining it as our KEY. Wrap in braces as we want a list\n",
    "2. repeat the same process for each additional column\n",
    "3. for column H, the data is a list of ordered products\n",
    "    - we need to split it based on the delimiter (a comma in this case)"
   ]
  },
  {
   "cell_type": "code",
   "execution_count": 7,
   "id": "78c7cdd2",
   "metadata": {},
   "outputs": [
    {
     "name": "stdout",
     "output_type": "stream",
     "text": [
      "{100000: ['C00004', '11/26/2021', 15.98, 'Sun Valley', ['10001', ' 10002']],\n",
      " 100001: ['C00007',\n",
      "          '11/26/2021',\n",
      "          899.97,\n",
      "          'Stowe',\n",
      "          ['10008', ' 10009', ' 10010']],\n",
      " 100002: ['C00015',\n",
      "          '11/26/2021',\n",
      "          799.97,\n",
      "          'Mammoth',\n",
      "          ['10011', ' 10012', ' 10013']],\n",
      " 100003: ['C00016',\n",
      "          '11/26/2021',\n",
      "          117.96,\n",
      "          'Stowe',\n",
      "          ['10002', ' 10003', ' 10004', ' 10006']],\n",
      " 100004: ['C00020', '11/26/2021', 5.99, 'Sun Valley', ['10001']],\n",
      " 100005: ['C00010', '11/26/2021', 599.99, 'Mammoth', ['10010']],\n",
      " 100006: ['C00006', '11/26/2021', 24.99, 'Mammoth', ['10004']],\n",
      " 100007: ['C00001',\n",
      "          '11/26/2021',\n",
      "          1799.94,\n",
      "          'Mammoth',\n",
      "          ['10008',\n",
      "           ' 10008',\n",
      "           ' 10009',\n",
      "           ' 10009',\n",
      "           ' 10009',\n",
      "           ' 10010',\n",
      "           ' 10010']],\n",
      " 100008: ['C00003', '11/26/2021', 99.99, 'Sun Valley', ['10005']],\n",
      " 100009: ['C00014',\n",
      "          '11/26/2021',\n",
      "          254.95,\n",
      "          'Sun Valley',\n",
      "          ['10002', ' 10003', ' 10004', ' 10006', ' 10007']],\n",
      " 100010: ['C00001', '11/26/2021', 29.98, 'Mammoth', ['10002', ' 10003']],\n",
      " 100011: ['C00001', '11/26/2021', 99.99, 'Mammoth', ['10005']],\n",
      " 100012: ['C00005', '11/26/2021', 25.98, 'Sun Valley', ['10001', ' 10003']],\n",
      " 100013: ['C00008', '11/26/2021', 649.98, 'Stowe', ['10012', ' 10013']],\n",
      " 100014: ['C00013', '11/26/2021', 89.99, 'Sun Valley', ['10014']],\n",
      " 100020: ['C00004', '11/27/2021', 119.99, 'Sun Valley', ['10007']],\n",
      " 100021: ['C00017', '11/27/2021', 599.99, 'Stowe', ['10010']],\n",
      " 100022: ['C00019', '11/27/2021', 649.98, 'Sun Valley', ['10012', ' 10013']],\n",
      " 100023: ['C00002', '11/27/2021', 24.99, 'Stowe', ['10004']],\n",
      " 100024: ['C00008', '11/27/2021', 99.99, 'Stowe', ['10005']],\n",
      " 100025: ['C00021', '11/27/2021', 99.99, 'Mammoth', ['10008']],\n",
      " 100026: ['C00022', '11/27/2021', 5.99, 'Sun Valley', ['10001']],\n",
      " 100027: ['C00006', '11/28/2021', 24.99, 'Mammoth', ['10002']],\n",
      " 100031: ['C00018',\n",
      "          '11/28/2021',\n",
      "          999.96,\n",
      "          'Stowe',\n",
      "          ['10005', ' 10008', ' 10009', ' 10010']],\n",
      " 100032: ['C00018', '11/28/2021', 99.99, 'Stowe', ['10006']],\n",
      " 100033: ['C00010',\n",
      "          '11/28/2021',\n",
      "          399.97,\n",
      "          'Mammoth',\n",
      "          ['10005', ' 10008', ' 10009']],\n",
      " 100034: ['C00016', '11/28/2021', 89.99, 'Stowe', ['10014']]}\n"
     ]
    }
   ],
   "source": [
    "pprint(order_dict)"
   ]
  },
  {
   "cell_type": "markdown",
   "id": "0a01af28",
   "metadata": {},
   "source": [
    "### Sales Tax Calculation (Last time!)\n",
    "\n",
    "We need to calculate the sales tax and total amount owed for every order in this sheet.\n",
    "\n",
    "* If location is Sun Valley, apply a sales tax of 8%\n",
    "* If location is Mammoth, apply a sales tax of 7.75%.\n",
    "* If location is Stowe, apply a sales tax of 6%\n",
    "\n",
    "Use the tax_calculator function to apply sales tax to each subtotal.\n",
    "\n",
    "**Insert** the calculated sales tax and total amounts into your customer dictionary immediately after subtotal.\n",
    "\n",
    "**Tip**: Figure out how to do this once and then loop through the column."
   ]
  },
  {
   "cell_type": "markdown",
   "id": "f87f01f6",
   "metadata": {},
   "source": [
    "### Code explaination for below\n",
    "1. we use a for loop and say for order in order dictorary values (cuz we want the values)\n",
    "2. apply conditional logic for the sales tax\n",
    "    - here we use slicing instead of 'location' and it is the 3rd index\n",
    "    - assign a variable and use tax calc and call it on the subtotal column (index 2) and the specific tax rate)\n",
    "3. finally, we use insert() to insert the 1st index from transaction (subtotal) to the subtotal column in the sheet (index of 3)\n",
    "4. We do the same thing for the total column which has an index of 4 in the sheet and 2 in the tax calculator"
   ]
  },
  {
   "cell_type": "code",
   "execution_count": 8,
   "id": "4e1c1e6a",
   "metadata": {
    "scrolled": false
   },
   "outputs": [],
   "source": [
    "for order in order_dict.values():\n",
    "    if order[3] == 'Sun Valley':\n",
    "        transaction = tax_calculator(order[2], .08)\n",
    "    elif order[3] == 'Mammoth':\n",
    "        transaction = tax_calculator(order[2], .0775)\n",
    "    else:\n",
    "        transaction = tax_calculator(order[2], .06)\n",
    "    order.insert(3, transaction[1])\n",
    "    order.insert(4, transaction[2])\n",
    "        "
   ]
  },
  {
   "cell_type": "code",
   "execution_count": 9,
   "id": "a0d8d395",
   "metadata": {},
   "outputs": [
    {
     "name": "stdout",
     "output_type": "stream",
     "text": [
      "{100000: ['C00004',\n",
      "          '11/26/2021',\n",
      "          15.98,\n",
      "          1.28,\n",
      "          17.26,\n",
      "          'Sun Valley',\n",
      "          ['10001', ' 10002']],\n",
      " 100001: ['C00007',\n",
      "          '11/26/2021',\n",
      "          899.97,\n",
      "          54.0,\n",
      "          953.97,\n",
      "          'Stowe',\n",
      "          ['10008', ' 10009', ' 10010']],\n",
      " 100002: ['C00015',\n",
      "          '11/26/2021',\n",
      "          799.97,\n",
      "          62.0,\n",
      "          861.97,\n",
      "          'Mammoth',\n",
      "          ['10011', ' 10012', ' 10013']],\n",
      " 100003: ['C00016',\n",
      "          '11/26/2021',\n",
      "          117.96,\n",
      "          7.08,\n",
      "          125.04,\n",
      "          'Stowe',\n",
      "          ['10002', ' 10003', ' 10004', ' 10006']],\n",
      " 100004: ['C00020', '11/26/2021', 5.99, 0.48, 6.47, 'Sun Valley', ['10001']],\n",
      " 100005: ['C00010', '11/26/2021', 599.99, 46.5, 646.49, 'Mammoth', ['10010']],\n",
      " 100006: ['C00006', '11/26/2021', 24.99, 1.94, 26.93, 'Mammoth', ['10004']],\n",
      " 100007: ['C00001',\n",
      "          '11/26/2021',\n",
      "          1799.94,\n",
      "          139.5,\n",
      "          1939.44,\n",
      "          'Mammoth',\n",
      "          ['10008',\n",
      "           ' 10008',\n",
      "           ' 10009',\n",
      "           ' 10009',\n",
      "           ' 10009',\n",
      "           ' 10010',\n",
      "           ' 10010']],\n",
      " 100008: ['C00003', '11/26/2021', 99.99, 8.0, 107.99, 'Sun Valley', ['10005']],\n",
      " 100009: ['C00014',\n",
      "          '11/26/2021',\n",
      "          254.95,\n",
      "          20.4,\n",
      "          275.35,\n",
      "          'Sun Valley',\n",
      "          ['10002', ' 10003', ' 10004', ' 10006', ' 10007']],\n",
      " 100010: ['C00001',\n",
      "          '11/26/2021',\n",
      "          29.98,\n",
      "          2.32,\n",
      "          32.3,\n",
      "          'Mammoth',\n",
      "          ['10002', ' 10003']],\n",
      " 100011: ['C00001', '11/26/2021', 99.99, 7.75, 107.74, 'Mammoth', ['10005']],\n",
      " 100012: ['C00005',\n",
      "          '11/26/2021',\n",
      "          25.98,\n",
      "          2.08,\n",
      "          28.06,\n",
      "          'Sun Valley',\n",
      "          ['10001', ' 10003']],\n",
      " 100013: ['C00008',\n",
      "          '11/26/2021',\n",
      "          649.98,\n",
      "          39.0,\n",
      "          688.98,\n",
      "          'Stowe',\n",
      "          ['10012', ' 10013']],\n",
      " 100014: ['C00013', '11/26/2021', 89.99, 7.2, 97.19, 'Sun Valley', ['10014']],\n",
      " 100020: ['C00004', '11/27/2021', 119.99, 9.6, 129.59, 'Sun Valley', ['10007']],\n",
      " 100021: ['C00017', '11/27/2021', 599.99, 36.0, 635.99, 'Stowe', ['10010']],\n",
      " 100022: ['C00019',\n",
      "          '11/27/2021',\n",
      "          649.98,\n",
      "          52.0,\n",
      "          701.98,\n",
      "          'Sun Valley',\n",
      "          ['10012', ' 10013']],\n",
      " 100023: ['C00002', '11/27/2021', 24.99, 1.5, 26.49, 'Stowe', ['10004']],\n",
      " 100024: ['C00008', '11/27/2021', 99.99, 6.0, 105.99, 'Stowe', ['10005']],\n",
      " 100025: ['C00021', '11/27/2021', 99.99, 7.75, 107.74, 'Mammoth', ['10008']],\n",
      " 100026: ['C00022', '11/27/2021', 5.99, 0.48, 6.47, 'Sun Valley', ['10001']],\n",
      " 100027: ['C00006', '11/28/2021', 24.99, 1.94, 26.93, 'Mammoth', ['10002']],\n",
      " 100031: ['C00018',\n",
      "          '11/28/2021',\n",
      "          999.96,\n",
      "          60.0,\n",
      "          1059.96,\n",
      "          'Stowe',\n",
      "          ['10005', ' 10008', ' 10009', ' 10010']],\n",
      " 100032: ['C00018', '11/28/2021', 99.99, 6.0, 105.99, 'Stowe', ['10006']],\n",
      " 100033: ['C00010',\n",
      "          '11/28/2021',\n",
      "          399.97,\n",
      "          31.0,\n",
      "          430.97,\n",
      "          'Mammoth',\n",
      "          ['10005', ' 10008', ' 10009']],\n",
      " 100034: ['C00016', '11/28/2021', 89.99, 5.4, 95.39, 'Stowe', ['10014']]}\n"
     ]
    }
   ],
   "source": [
    "pprint(order_dict)"
   ]
  },
  {
   "cell_type": "markdown",
   "id": "5d3460da",
   "metadata": {},
   "source": [
    "### Write Sales Tax and Total Into the Excel Sheet\n",
    "\n",
    "\n",
    "Great job! Now we just need to write this data into the workbook.\n",
    "\n",
    "Write the sales tax and total you just calculated into the workbook, then save!\n",
    "\n",
    "Call this workbook 'maven_ski_shop_data_fixed'.\n",
    "\n",
    "**Tip:** There are a few ways to do this. As always, be patient, solve one step at a time."
   ]
  },
  {
   "cell_type": "code",
   "execution_count": 10,
   "id": "957e2656",
   "metadata": {},
   "outputs": [],
   "source": [
    "# Can also be done using enumerate\n",
    "\n",
    "for index, order in enumerate(order_dict.values(), start=2):\n",
    "    orders[f'E{index}'] = order[3]  # use 3 as the 3rd index is tax column\n",
    "    orders[f'F{index}'] = order[4]\n"
   ]
  },
  {
   "cell_type": "code",
   "execution_count": 109,
   "id": "0ed681d9",
   "metadata": {},
   "outputs": [
    {
     "ename": "PermissionError",
     "evalue": "[Errno 13] Permission denied: 'maven_ski_shop_data_fixed.xlsx'",
     "output_type": "error",
     "traceback": [
      "\u001b[1;31m---------------------------------------------------------------------------\u001b[0m",
      "\u001b[1;31mPermissionError\u001b[0m                           Traceback (most recent call last)",
      "Cell \u001b[1;32mIn[109], line 3\u001b[0m\n\u001b[0;32m      1\u001b[0m \u001b[38;5;66;03m# Save Work Book\u001b[39;00m\n\u001b[1;32m----> 3\u001b[0m wb\u001b[38;5;241m.\u001b[39msave(\u001b[38;5;124m'\u001b[39m\u001b[38;5;124mmaven_ski_shop_data_fixed.xlsx\u001b[39m\u001b[38;5;124m'\u001b[39m)\n",
      "File \u001b[1;32m~\\anaconda3\\Lib\\site-packages\\openpyxl\\workbook\\workbook.py:407\u001b[0m, in \u001b[0;36mWorkbook.save\u001b[1;34m(self, filename)\u001b[0m\n\u001b[0;32m    405\u001b[0m \u001b[38;5;28;01mif\u001b[39;00m \u001b[38;5;28mself\u001b[39m\u001b[38;5;241m.\u001b[39mwrite_only \u001b[38;5;129;01mand\u001b[39;00m \u001b[38;5;129;01mnot\u001b[39;00m \u001b[38;5;28mself\u001b[39m\u001b[38;5;241m.\u001b[39mworksheets:\n\u001b[0;32m    406\u001b[0m     \u001b[38;5;28mself\u001b[39m\u001b[38;5;241m.\u001b[39mcreate_sheet()\n\u001b[1;32m--> 407\u001b[0m save_workbook(\u001b[38;5;28mself\u001b[39m, filename)\n",
      "File \u001b[1;32m~\\anaconda3\\Lib\\site-packages\\openpyxl\\writer\\excel.py:291\u001b[0m, in \u001b[0;36msave_workbook\u001b[1;34m(workbook, filename)\u001b[0m\n\u001b[0;32m    279\u001b[0m \u001b[38;5;28;01mdef\u001b[39;00m \u001b[38;5;21msave_workbook\u001b[39m(workbook, filename):\n\u001b[0;32m    280\u001b[0m \u001b[38;5;250m    \u001b[39m\u001b[38;5;124;03m\"\"\"Save the given workbook on the filesystem under the name filename.\u001b[39;00m\n\u001b[0;32m    281\u001b[0m \n\u001b[0;32m    282\u001b[0m \u001b[38;5;124;03m    :param workbook: the workbook to save\u001b[39;00m\n\u001b[1;32m   (...)\u001b[0m\n\u001b[0;32m    289\u001b[0m \n\u001b[0;32m    290\u001b[0m \u001b[38;5;124;03m    \"\"\"\u001b[39;00m\n\u001b[1;32m--> 291\u001b[0m     archive \u001b[38;5;241m=\u001b[39m ZipFile(filename, \u001b[38;5;124m'\u001b[39m\u001b[38;5;124mw\u001b[39m\u001b[38;5;124m'\u001b[39m, ZIP_DEFLATED, allowZip64\u001b[38;5;241m=\u001b[39m\u001b[38;5;28;01mTrue\u001b[39;00m)\n\u001b[0;32m    292\u001b[0m     writer \u001b[38;5;241m=\u001b[39m ExcelWriter(workbook, archive)\n\u001b[0;32m    293\u001b[0m     writer\u001b[38;5;241m.\u001b[39msave()\n",
      "File \u001b[1;32m~\\anaconda3\\Lib\\zipfile.py:1284\u001b[0m, in \u001b[0;36mZipFile.__init__\u001b[1;34m(self, file, mode, compression, allowZip64, compresslevel, strict_timestamps, metadata_encoding)\u001b[0m\n\u001b[0;32m   1282\u001b[0m \u001b[38;5;28;01mwhile\u001b[39;00m \u001b[38;5;28;01mTrue\u001b[39;00m:\n\u001b[0;32m   1283\u001b[0m     \u001b[38;5;28;01mtry\u001b[39;00m:\n\u001b[1;32m-> 1284\u001b[0m         \u001b[38;5;28mself\u001b[39m\u001b[38;5;241m.\u001b[39mfp \u001b[38;5;241m=\u001b[39m io\u001b[38;5;241m.\u001b[39mopen(file, filemode)\n\u001b[0;32m   1285\u001b[0m     \u001b[38;5;28;01mexcept\u001b[39;00m \u001b[38;5;167;01mOSError\u001b[39;00m:\n\u001b[0;32m   1286\u001b[0m         \u001b[38;5;28;01mif\u001b[39;00m filemode \u001b[38;5;129;01min\u001b[39;00m modeDict:\n",
      "\u001b[1;31mPermissionError\u001b[0m: [Errno 13] Permission denied: 'maven_ski_shop_data_fixed.xlsx'"
     ]
    }
   ],
   "source": [
    "# Save Work Book\n",
    "\n",
    "wb.save('maven_ski_shop_data_fixed.xlsx')"
   ]
  },
  {
   "cell_type": "markdown",
   "id": "328ba670",
   "metadata": {},
   "source": [
    "## Part 2\n",
    "\n",
    "### Analysis Time!\n",
    "\n",
    "\n",
    "Now that we've fixed the data - it's time to perform analysis on our sales.\n",
    "\n",
    "Our starting point will be the order_dict we created, after we added the taxes and totals columns.\n",
    "\n",
    "Our first step will be to write a function that calculates the sum of a 'column' of data in our dictionary.\n",
    "\n",
    "A 'column' for example, would be subtotals, which is at index 2 in the list stored as our dictionary values.\n",
    "\n",
    "Your function should take the following arguments:\n",
    "\n",
    "* Column Index (the index of the data of interest in the list stored in our dictionary values)\n",
    "* Dictionary Name\n",
    "\n",
    "It should output:\n",
    "\n",
    "* The sum of values in the column (rounded to two decimal places)\n",
    "\n",
    "Assume only numeric values will be in the column (You can develop cleaning logic later :D)\n",
    "\n",
    "**Tip:** Use a list comprehension to retrieve the values of interest."
   ]
  },
  {
   "cell_type": "code",
   "execution_count": 13,
   "id": "284693e9",
   "metadata": {},
   "outputs": [
    {
     "name": "stdout",
     "output_type": "stream",
     "text": [
      "Overwriting column_sum.py\n"
     ]
    }
   ],
   "source": [
    "%%writefile column_sum.py\n",
    "\n",
    "def column_sum(column_index, dict_name):\n",
    "    column_total = round(sum([value[column_index] for value in dict_name.values()]),2)\n",
    "    return column_total\n",
    "\n"
   ]
  },
  {
   "cell_type": "code",
   "execution_count": 14,
   "id": "8b0e68c7",
   "metadata": {},
   "outputs": [
    {
     "data": {
      "text/plain": [
       "8731.47"
      ]
     },
     "execution_count": 14,
     "metadata": {},
     "output_type": "execute_result"
    }
   ],
   "source": [
    "from column_sum import column_sum\n",
    "\n",
    "column_sum(2,order_dict)"
   ]
  },
  {
   "cell_type": "markdown",
   "id": "d83413fe",
   "metadata": {},
   "source": [
    "#### Sum The Subtotal, Tax, and Total Columns \n",
    "\n",
    "Now that we have our column sum function, calculate the sum of:\n",
    "\n",
    "* Subtotals\n",
    "* Taxes\n",
    "* Totals"
   ]
  },
  {
   "cell_type": "code",
   "execution_count": 15,
   "id": "f96d2f45",
   "metadata": {
    "scrolled": true
   },
   "outputs": [
    {
     "name": "stdout",
     "output_type": "stream",
     "text": [
      "8731.47\n",
      "617.2\n",
      "9348.67\n"
     ]
    }
   ],
   "source": [
    "print(column_sum(2, order_dict))\n",
    "print(column_sum(3, order_dict))\n",
    "print(column_sum(4, order_dict))"
   ]
  },
  {
   "cell_type": "markdown",
   "id": "b2720242",
   "metadata": {},
   "source": [
    "### What is the average of our subtotals?\n",
    "\n",
    "Calculate the average value of our transactions.\n",
    "\n",
    "Remember that each entry in your dictionary is one order."
   ]
  },
  {
   "cell_type": "code",
   "execution_count": 16,
   "id": "1aa1093a",
   "metadata": {},
   "outputs": [],
   "source": [
    "sum_of_subtotals = column_sum(2, order_dict)\n",
    "\n",
    "sum_of_taxes = column_sum(3, order_dict)\n",
    "\n",
    "total_transactions = column_sum(4, order_dict)\n"
   ]
  },
  {
   "cell_type": "code",
   "execution_count": 17,
   "id": "cf677b6e",
   "metadata": {},
   "outputs": [
    {
     "data": {
      "text/plain": [
       "323.39"
      ]
     },
     "execution_count": 17,
     "metadata": {},
     "output_type": "execute_result"
    }
   ],
   "source": [
    "# for the average function we just take the variable from above and / by len of the dict\n",
    "\n",
    "round(sum_of_subtotals / len(order_dict),2)"
   ]
  },
  {
   "cell_type": "markdown",
   "id": "fa8f7168",
   "metadata": {},
   "source": [
    "### How many unique customers did we have?\n",
    "\n",
    "Calculate the total number of unique customers in our sales data.\n",
    "\n",
    "Then calculate the number of orders per customer (total orders / unique customers)"
   ]
  },
  {
   "cell_type": "markdown",
   "id": "07382f8a",
   "metadata": {},
   "source": [
    "### Unique Customers "
   ]
  },
  {
   "cell_type": "code",
   "execution_count": 18,
   "id": "7af182d6",
   "metadata": {},
   "outputs": [
    {
     "name": "stdout",
     "output_type": "stream",
     "text": [
      "19\n"
     ]
    }
   ],
   "source": [
    "# first we need to isolate the customer_id column from the sheet, shown below (1)\n",
    "\n",
    "#returns the customer_id column\n",
    "[order[0] for order in order_dict.values()]  \n",
    "\n",
    "# Now we can turn that list into a set as sets elminiate duplicates\n",
    "unique_cust = {order[0] for order in order_dict.values()}\n",
    "\n",
    "# Finally we can employ the len() function to count the total number of customers\n",
    "print(len(unique_cust))"
   ]
  },
  {
   "cell_type": "markdown",
   "id": "65baccd8",
   "metadata": {},
   "source": [
    "### Number of Orders Per Customer"
   ]
  },
  {
   "cell_type": "code",
   "execution_count": 19,
   "id": "e855e8e8",
   "metadata": {},
   "outputs": [
    {
     "data": {
      "text/plain": [
       "1.42"
      ]
     },
     "execution_count": 19,
     "metadata": {},
     "output_type": "execute_result"
    }
   ],
   "source": [
    "# to find the orders per customer we can take the total # of orders / by the unique customers \n",
    "\n",
    "round(len([order[0] for order in order_dict.values()]) / len(unique_cust),2)"
   ]
  },
  {
   "cell_type": "markdown",
   "id": "ff483459",
   "metadata": {},
   "source": [
    "### How many items in total did we sell?\n",
    "\n",
    "Calculate the total number of items we sold in across all orders. \n",
    "\n",
    "This information is in Column H, which should be the last element in order_dict's values."
   ]
  },
  {
   "cell_type": "code",
   "execution_count": 20,
   "id": "2f7d15ac",
   "metadata": {},
   "outputs": [
    {
     "data": {
      "text/plain": [
       "54"
      ]
     },
     "execution_count": 20,
     "metadata": {},
     "output_type": "execute_result"
    }
   ],
   "source": [
    "# first lets list the items_orderd column\n",
    "\n",
    "[order[6] for order in order_dict.values()]   # items ordered is index [6]\n",
    "\n",
    "\n",
    "# next we can use the len function to get the number of orders from each customer  \n",
    "[len(order[6]) for order in order_dict.values()]\n",
    "\n",
    "\n",
    "# finally we can use the sum function to add all the orders together to get the total\n",
    "sum([len(order[6]) for order in order_dict.values()])"
   ]
  },
  {
   "cell_type": "markdown",
   "id": "05abd311",
   "metadata": {},
   "source": [
    "### Sales By Location\n",
    "\n",
    "Calculate the sum of subtotals by location.\n",
    "\n",
    "Create a dictionary to store them, where location is the key, and revenue for that location is the value.\n",
    "\n",
    "A few steps to consider:\n",
    "\n",
    "* Loop through your dictionary\n",
    "* build a dictionary as you go with location as key\n",
    "* increment revenue every time a transaction matches the location.\n",
    "\n",
    "\n",
    "Your output should look like \n",
    "{'Location1': sum of subtotals for 'Location1'}\n",
    "\n",
    "With an entry for each location."
   ]
  },
  {
   "cell_type": "code",
   "execution_count": 21,
   "id": "960a8d1b",
   "metadata": {},
   "outputs": [
    {
     "data": {
      "text/plain": [
       "{'Sun Valley': 1268.84,\n",
       " 'Stowe': 3582.8199999999993,\n",
       " 'Mammoth': 3879.8099999999995}"
      ]
     },
     "execution_count": 21,
     "metadata": {},
     "output_type": "execute_result"
    }
   ],
   "source": [
    "# Dictionary that sums the total amount of orders from each store location\n",
    "\n",
    "location_sums = {}                   # create empty dict\n",
    "\n",
    "for data in order_dict.values():     # Loop through dict\n",
    "        \n",
    "    location = data[5]               # location is 5th index, stored as variable\n",
    "    \n",
    "    if location not in location_sums:    # make sure location isnt already in dict\n",
    "        \n",
    "        location_sums[location] = 0\n",
    "    \n",
    "    location_sums[location] += data[2]     # 2 is subtotal which we want it to sum, += to add each time\n",
    "    \n",
    "    \n",
    "    \n",
    "location_sums"
   ]
  },
  {
   "cell_type": "markdown",
   "id": "718e91df",
   "metadata": {
    "scrolled": true
   },
   "source": [
    "## Option 2 using Get method"
   ]
  },
  {
   "cell_type": "code",
   "execution_count": 22,
   "id": "95df1dd0",
   "metadata": {},
   "outputs": [],
   "source": [
    "# Get wont return key error if key isnt present so we dont need the NOT IN statement from above\n",
    "\n",
    "location_sums = {}\n",
    "\n",
    "for data in order_dict.values():\n",
    "    \n",
    "    location = data[5]\n",
    "    \n",
    "    location_sums[location] = location_sums.get(location, 0) + data[2]\n",
    "# if value exists we grab it, if not we give it a 0, we then add the subtotal in the row (index 2)"
   ]
  },
  {
   "cell_type": "markdown",
   "id": "a9ffa683",
   "metadata": {},
   "source": [
    "### Challenge: Aggregator Function\n",
    "\n",
    "Now that you've summed revenue by category (you just summed by location), can you write a function to generalize calculating a sum of a column, grouped by the unique values in another column? (for example, sum of totals by date or customer_id).\n",
    "\n",
    "Your function should take the following arguments:\n",
    "* index of the 'column' (index position in order_dict) to group by\n",
    "* index of the 'column' (index position in order_dict) to sum by category\n",
    "* the dictionary where the data is located (assume the same structure as order_dict.\n",
    "\n",
    "It should return:\n",
    "* A dictionary with the categories as keys, and the sum by category as value.\n",
    "\n",
    "Once you've done so use your function to sum totals by date and customer_id."
   ]
  },
  {
   "cell_type": "code",
   "execution_count": 44,
   "id": "1161cf10",
   "metadata": {},
   "outputs": [
    {
     "name": "stdout",
     "output_type": "stream",
     "text": [
      "Writing aggregator.py\n"
     ]
    }
   ],
   "source": [
    "%%writefile aggregator.py\n",
    "\n",
    "def aggregator(category_index, field_to_sum_index, dictionary):\n",
    "\n",
    "    category_sums = {}                   # create empty dict\n",
    "\n",
    "    for data in dictionary.values():     # Loop through dict\n",
    "        \n",
    "        category = data[category_index]               # index is category index for user to specify later\n",
    "        \n",
    "        category_sums[category] = round(category_sums.get(category, 0) + data[field_to_sum_index],2)\n",
    "                                                     # replace index with field to sum for user to specify\n",
    "                    \n",
    "    \n",
    "    return category_sums"
   ]
  },
  {
   "cell_type": "code",
   "execution_count": 42,
   "id": "b034d599",
   "metadata": {
    "scrolled": true
   },
   "outputs": [
    {
     "data": {
      "text/plain": [
       "{'11/26/2021': 5915.18, '11/27/2021': 1714.25, '11/28/2021': 1719.24}"
      ]
     },
     "execution_count": 42,
     "metadata": {},
     "output_type": "execute_result"
    }
   ],
   "source": [
    "# index 1 = date, index 4 = total\n",
    "aggregator(1, 4, order_dict)"
   ]
  },
  {
   "cell_type": "code",
   "execution_count": 43,
   "id": "92703b3d",
   "metadata": {},
   "outputs": [
    {
     "data": {
      "text/plain": [
       "{'C00004': 146.85,\n",
       " 'C00007': 953.97,\n",
       " 'C00015': 861.97,\n",
       " 'C00016': 220.43,\n",
       " 'C00020': 6.47,\n",
       " 'C00010': 1077.46,\n",
       " 'C00006': 53.86,\n",
       " 'C00001': 2079.48,\n",
       " 'C00003': 107.99,\n",
       " 'C00014': 275.35,\n",
       " 'C00005': 28.06,\n",
       " 'C00008': 794.97,\n",
       " 'C00013': 97.19,\n",
       " 'C00017': 635.99,\n",
       " 'C00019': 701.98,\n",
       " 'C00002': 26.49,\n",
       " 'C00021': 107.74,\n",
       " 'C00022': 6.47,\n",
       " 'C00018': 1165.95}"
      ]
     },
     "execution_count": 43,
     "metadata": {},
     "output_type": "execute_result"
    }
   ],
   "source": [
    "# index 0 = customer_id\n",
    "aggregator(0, 4, order_dict)"
   ]
  },
  {
   "cell_type": "code",
   "execution_count": null,
   "id": "bc9ccd3a",
   "metadata": {},
   "outputs": [],
   "source": []
  }
 ],
 "metadata": {
  "kernelspec": {
   "display_name": "Python 3 (ipykernel)",
   "language": "python",
   "name": "python3"
  },
  "language_info": {
   "codemirror_mode": {
    "name": "ipython",
    "version": 3
   },
   "file_extension": ".py",
   "mimetype": "text/x-python",
   "name": "python",
   "nbconvert_exporter": "python",
   "pygments_lexer": "ipython3",
   "version": "3.11.5"
  }
 },
 "nbformat": 4,
 "nbformat_minor": 5
}
